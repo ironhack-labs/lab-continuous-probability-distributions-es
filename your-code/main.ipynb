{
 "cells": [
  {
   "cell_type": "markdown",
   "metadata": {},
   "source": [
    "# Antes de empezar:\n",
    "\n",
    "    Lee el archivo README.md\n",
    "    Comenta todo lo que puedas y utiliza los recursos (archivo README.md)\n",
    "    ¡Feliz aprendizaje!"
   ]
  },
  {
   "cell_type": "markdown",
   "metadata": {},
   "source": [
    "En este ejercicio, generaremos números aleatorios a partir de las disribuciones continuas que aprendimos en la lección. Hay dos formas de generar números aleatorios:\n",
    "\n",
    "1. Usando la librería numpy \n",
    "1. Usando la librería Scipy \n",
    "\n",
    "Utiliza cualquiera de las dos librerías o ambas en este ejercicio."
   ]
  },
  {
   "cell_type": "code",
   "execution_count": null,
   "metadata": {},
   "outputs": [],
   "source": [
    "import matplotlib.pyplot as plt\n",
    "import pandas as pd\n",
    "import numpy as np\n",
    "import math\n",
    "import seaborn as sns"
   ]
  },
  {
   "cell_type": "markdown",
   "metadata": {},
   "source": [
    "## Distribución Uniforme\n",
    "\n",
    "Para generar números aleatorios uniformes entre dos valores dados usando scipy, podemos usar el siguiente código o el código que hemos\n",
    "discutido en clase:"
   ]
  },
  {
   "cell_type": "code",
   "execution_count": null,
   "metadata": {},
   "outputs": [],
   "source": [
    "# your code here\n",
    "import numpy as np\n",
    "import matplotlib.pyplot as plt\n",
    "from scipy.stats import uniform\n",
    "\n",
    "# Definir los parámetros\n",
    "a = 1  # límite inferior\n",
    "b = 10  # límite superior\n",
    "size = 1000  # número de muestras\n",
    "\n",
    "# Generar números aleatorios uniformes\n",
    "random_numbers = uniform.rvs(loc=a, scale=b-a, size=size)\n",
    "\n",
    "# Visualizar los resultados\n",
    "plt.figure(figsize=(10, 6))\n",
    "plt.hist(random_numbers, bins=30, density=True, alpha=0.6, color='g')\n",
    "\n",
    "# Graficar la distribución teórica\n",
    "xmin, xmax = plt.xlim()\n",
    "x = np.linspace(xmin, xmax, 100)\n",
    "p = uniform.pdf(x, loc=a, scale=b-a)\n",
    "plt.plot(x, p, 'k', linewidth=2)\n",
    "\n",
    "plt.title('Distribución de Números Aleatorios Uniformes')\n",
    "plt.xlabel('Valor')\n",
    "plt.ylabel('Densidad')\n",
    "plt.grid()\n",
    "plt.show()"
   ]
  },
  {
   "attachments": {
    "image.png": {
     "image/png": "[encoded data removed]"
    }
   },
   "cell_type": "markdown",
   "metadata": {},
   "source": [
    "**Tarea:**\n",
    "\n",
    "1. Basándote en el código anterior, escribe una función que genere números aleatorios uniformemente distribuidos. Hay varios requisitos para tu función:\n",
    "    * Debe aceptar 3 parámetros: \n",
    "        * `bottom` - el límite inferior de los números generados\n",
    "        * `ceiling` - el límite superior de los números generados\n",
    "        * `count` - cuántos números generar\n",
    "    * Debe devolver una matriz de números aleatorios distribuidos uniformemente\n",
    "\n",
    "2. Llama a tu función con 2 conjuntos de parámetros a continuación:\n",
    "    * bottom=10, ceiling=15, count=100\n",
    "    * bottom=10, ceiling=60, count=1,000\n",
    "\n",
    "3. Traza las distribuciones uniformes generadas anteriormente utilizando histogramas, donde el eje x es el valor y el eje y es el recuento. Que el número de intervalos del histograma sea 10.\n",
    "\n",
    "El resultado debe ser como el siguiente:\n",
    "\n",
    "![image.png](attachment:image.png)"
   ]
  },
  {
   "cell_type": "code",
   "execution_count": null,
   "metadata": {},
   "outputs": [],
   "source": [
    "# your code here\n",
    "import numpy as np\n",
    "import matplotlib.pyplot as plt\n",
    "from scipy.stats import uniform\n",
    "\n",
    "# Definir los parámetros\n",
    "a = 10  # límite inferior\n",
    "b = 15  # límite superior\n",
    "size = 100  # número de muestras\n",
    "\n",
    "# Generar números aleatorios uniformes\n",
    "random_numbers = uniform.rvs(loc=a, scale=b-a, size=size)\n",
    "\n",
    "# Visualizar los resultados\n",
    "plt.figure(figsize=(10, 6))\n",
    "plt.hist(random_numbers, bins=30, density=True, alpha=0.6, color='g')\n",
    "\n",
    "# Graficar la distribución teórica\n",
    "xmin, xmax = plt.xlim()\n",
    "x = np.linspace(xmin, xmax, 100)\n",
    "p = uniform.pdf(x, loc=a, scale=b-a)\n",
    "plt.plot(x, p, 'k', linewidth=2)\n",
    "\n",
    "plt.title('Distribución de Números Aleatorios Uniformes')\n",
    "plt.xlabel('Valor')\n",
    "plt.ylabel('Densidad')\n",
    "plt.grid()\n",
    "plt.show()"
   ]
  },
  {
   "cell_type": "code",
   "execution_count": null,
   "metadata": {},
   "outputs": [],
   "source": [
    "# your code here\n",
    "import numpy as np\n",
    "import matplotlib.pyplot as plt\n",
    "from scipy.stats import uniform\n",
    "\n",
    "# Definir los parámetros\n",
    "a = 10  # límite inferior\n",
    "b = 60  # límite superior\n",
    "size = 1000  # número de muestras\n",
    "\n",
    "# Generar números aleatorios uniformes\n",
    "random_numbers = uniform.rvs(loc=a, scale=b-a, size=size)\n",
    "\n",
    "# Visualizar los resultados\n",
    "plt.figure(figsize=(10, 6))\n",
    "plt.hist(random_numbers, bins=30,  alpha=0.6, color='g')\n",
    "\n",
    "# Graficar la distribución teórica\n",
    "xmin, xmax = plt.xlim()\n",
    "x = np.linspace(xmin, xmax, 100)\n",
    "p = uniform.pdf(x, loc=a, scale=b-a)\n",
    "plt.plot(x, p, 'k', linewidth=2)\n",
    "\n",
    "plt.title('Distribución de Números Aleatorios Uniformes')\n",
    "plt.xlabel('Valor')\n",
    "plt.ylabel('Densidad')\n",
    "plt.grid()\n",
    "plt.show()"
   ]
  },
  {
   "cell_type": "code",
   "execution_count": null,
   "metadata": {
    "scrolled": false
   },
   "outputs": [],
   "source": [
    "# your code here\n",
    "def grafica( a, b, size):\n",
    "    # Generar números aleatorios uniformes\n",
    "    random_numbers = uniform.rvs(loc=a, scale=b-a, size=size)\n",
    "    \n",
    "    # Visualizar los resultados\n",
    "    plt.figure(figsize=(10, 6))\n",
    "    plt.hist(random_numbers, bins=30, alpha=0.6, color='g')\n",
    "    \n",
    "    # Graficar la distribución teórica\n",
    "    xmin, xmax = plt.xlim()\n",
    "    x = np.linspace(xmin, xmax, 100)\n",
    "    p = uniform.pdf(x, loc=a, scale=b-a)\n",
    "    plt.plot(x, p, 'k', linewidth=2)\n",
    "\n",
    "\n",
    "\n",
    "\n",
    "\n",
    "grafica(10, 60, 1000)\n",
    "plt.title('Distribución de Números Aleatorios Uniformes1')\n",
    "plt.xlabel('Valor')\n",
    "plt.ylabel('Recuento')\n",
    "\n",
    "\n",
    "\n",
    "grafica(10, 15, 100)\n",
    "plt.title('Distribución de Números Aleatorios Uniformes2')\n",
    "plt.xlabel('Valor')\n",
    "plt.ylabel('Recuento')\n",
    "plt.show()"
   ]
  },
  {
   "cell_type": "markdown",
   "metadata": {},
   "source": [
    "How are the two distributions different?"
   ]
  },
  {
   "cell_type": "code",
   "execution_count": null,
   "metadata": {},
   "outputs": [],
   "source": [
    "# your answer below"
   ]
  },
  {
   "attachments": {
    "image.png": {
     "image/png": "[encoded data removed]"
    }
   },
   "cell_type": "markdown",
   "metadata": {},
   "source": [
    "## Distribución Normal\n",
    "\n",
    "1. De la misma manera en el reto de Distribución Uniforme, escriba una función que genere números aleatorios distribuidos normalmente.\n",
    "1. Genera 1.000 números distribuidos normalmente con media de 10 y desviación típica de 1\n",
    "1. Genera 1.000 números distribuidos normalmente con una media de 10 y una desviación típica de 50\n",
    "2. Representa gráficamente las distribuciones de los datos generados.\n",
    "\n",
    "Resultado esperado:\n",
    "\n",
    "![image.png](attachment:image.png)"
   ]
  },
  {
   "cell_type": "code",
   "execution_count": null,
   "metadata": {},
   "outputs": [],
   "source": [
    "from scipy.stats import norm \n",
    "import numpy as np\n",
    "import matplotlib.pyplot as plt\n",
    "\n",
    "# Parámetros\n",
    "media_1, desviacion_1 = 10, 1\n",
    "media_2, desviacion_2 = 10, 50\n",
    "\n",
    "# Generar los datos\n",
    "datos_1 = np.random.normal(media_1, desviacion_1, 1000)\n",
    "datos_2 = np.random.normal(media_2, desviacion_2, 1000)\n",
    "\n",
    "# Graficar las distribuciones\n",
    "plt.figure(figsize=(12, 6))\n",
    "\n",
    "# Histograma de la primera distribución\n",
    "plt.subplot(1, 2, 1)\n",
    "plt.hist(datos_1, bins=30, color='blue', alpha=0.7)\n",
    "plt.title(\"Distribución Normal (media=10, desviación=1)\")\n",
    "plt.xlabel(\"Valor\")\n",
    "plt.ylabel(\"Frecuencia\")\n",
    "\n",
    "# Histograma de la segunda distribución\n",
    "plt.subplot(1, 2, 2)\n",
    "plt.hist(datos_2, bins=30, color='red', alpha=0.7)\n",
    "plt.title(\"Distribución Normal (media=10, desviación=50)\")\n",
    "plt.xlabel(\"Valor\")\n",
    "plt.ylabel(\"Frecuencia\")\n",
    "\n",
    "# Mostrar los gráficos\n",
    "plt.tight_layout()\n",
    "plt.show()"
   ]
  },
  {
   "cell_type": "code",
   "execution_count": null,
   "metadata": {},
   "outputs": [],
   "source": [
    "# your code here"
   ]
  },
  {
   "cell_type": "code",
   "execution_count": null,
   "metadata": {},
   "outputs": [],
   "source": [
    "# your code here"
   ]
  },
  {
   "cell_type": "code",
   "execution_count": null,
   "metadata": {},
   "outputs": [],
   "source": [
    "# your code here"
   ]
  },
  {
   "cell_type": "code",
   "execution_count": null,
   "metadata": {},
   "outputs": [],
   "source": [
    "# your code here"
   ]
  },
  {
   "cell_type": "markdown",
   "metadata": {},
   "source": [
    "How are the two distributions different?"
   ]
  },
  {
   "cell_type": "raw",
   "metadata": {
    "vscode": {
     "languageId": "raw"
    }
   },
   "source": [
    "Your answer here\n",
    "\n",
    "La forma es sorpresivamente parecida aunque la dispersión del segundo gráfico es ámpliamente mayor\n"
   ]
  },
  {
   "cell_type": "markdown",
   "metadata": {},
   "source": [
    "## Distribución Normal de Datos Reales\n",
    "\n",
    "En este reto vamos a echar un vistazo a los datos reales. Utilizaremos el archivo vehicles.csv para este ejercicio"
   ]
  },
  {
   "cell_type": "code",
   "execution_count": null,
   "metadata": {},
   "outputs": [],
   "source": [
    "# your code here\n",
    "import pandas as pd"
   ]
  },
  {
   "cell_type": "markdown",
   "metadata": {},
   "source": [
    "Primero importa vehicles.csv.\n",
    "A continuación, traza los histogramas de las siguientes variables:\n",
    "\n",
    "1. Barriles de combustible/año"
   ]
  },
  {
   "cell_type": "code",
   "execution_count": null,
   "metadata": {},
   "outputs": [],
   "source": [
    "# your code here\n",
    "# Cargar el archivo CSV a un DataFrame\n",
    "# df = pd.read_csv(r'C:\\Users\\smont\\Documents\\first_repo\\Labs\\lab-continuous-probability-distributions-es\\your-code/vehicles.csv')\n",
    "df = pd.read_csv(r'C:\\Users\\tatan\\Desktop\\repo_course\\Week09_Session40_lab-continuous-probability-distributions-es\\your-code\\vehicles.csv')\n",
    "df.head()\n",
    "\n",
    "# Trazar el histograma\n",
    "plt.figure(figsize=(10, 6))\n",
    "plt.hist(df['Fuel Barrels/Year'], bins=30, color='skyblue', edgecolor='black')\n",
    "plt.title('Histograma de Barriles de Combustible por Año')\n",
    "plt.xlabel('Barriles de Combustible/año')\n",
    "plt.ylabel('Frecuencia')\n",
    "plt.grid(True)\n",
    "plt.show()"
   ]
  },
  {
   "cell_type": "code",
   "execution_count": null,
   "metadata": {},
   "outputs": [],
   "source": [
    "# your code here"
   ]
  },
  {
   "cell_type": "markdown",
   "metadata": {},
   "source": [
    "2. Emisiones de CO2 Gramos/Milla "
   ]
  },
  {
   "cell_type": "code",
   "execution_count": null,
   "metadata": {},
   "outputs": [],
   "source": [
    "# your code here\n",
    "# Trazar el histograma\n",
    "plt.figure(figsize=(10, 6))\n",
    "plt.hist(df['CO2 Emission Grams/Mile'], bins=30, color='skyblue', edgecolor='black')\n",
    "plt.title('Histograma de CO2 Emission Grams/Mile')\n",
    "plt.xlabel('CO2 Emission Grams/Mile')\n",
    "plt.ylabel('Frecuencia')\n",
    "plt.grid(True)\n",
    "plt.show()"
   ]
  },
  {
   "cell_type": "code",
   "execution_count": null,
   "metadata": {},
   "outputs": [],
   "source": [
    "# your code here"
   ]
  },
  {
   "cell_type": "markdown",
   "metadata": {},
   "source": [
    "3. MPG combinado"
   ]
  },
  {
   "cell_type": "code",
   "execution_count": null,
   "metadata": {},
   "outputs": [],
   "source": [
    "# your code here\n",
    "plt.figure(figsize=(10, 6))\n",
    "plt.hist(df['Combined MPG'], bins=30, color='skyblue', edgecolor='black')\n",
    "plt.title('Histograma de Combined MPG')\n",
    "plt.xlabel('Combined MPG')\n",
    "plt.ylabel('Frecuencia')\n",
    "plt.grid(True)\n",
    "plt.show()"
   ]
  },
  {
   "cell_type": "markdown",
   "metadata": {},
   "source": [
    "¿Cuál o cuáles de las variables tienen una distribución casi normal? ¿Cómo lo sabes?"
   ]
  },
  {
   "cell_type": "code",
   "execution_count": null,
   "metadata": {},
   "outputs": [],
   "source": [
    "# La campana normal está mejor detallada en el MPG combinado, aunque esté desplazado hacia la izquierda.\n"
   ]
  },
  {
   "cell_type": "markdown",
   "metadata": {},
   "source": [
    "Ninguno de ellos está normalmente ditribuido. "
   ]
  },
  {
   "cell_type": "markdown",
   "metadata": {},
   "source": [
    "## Distribución Exponencial"
   ]
  },
  {
   "attachments": {
    "image.png": {
     "image/png": "[encoded data removed]"
    }
   },
   "cell_type": "markdown",
   "metadata": {},
   "source": [
    "1. Utilizando `numpy.random.exponential`, crea una función que devuelva una lista de números distribuidos exponencialmente con la media de 10. \n",
    "\n",
    "1. Utiliza la función para generar dos secuencias de números de tamaño 10 y 100.\n",
    "\n",
    "1. 2. Traza las distribuciones como histogramas con el número de bins como 100.\n",
    "\n",
    "El resultado debe ser como el siguiente:\n",
    "\n",
    "![image.png](attachment:image.png)"
   ]
  },
  {
   "cell_type": "code",
   "execution_count": null,
   "metadata": {},
   "outputs": [],
   "source": [
    "# your code here\n",
    "import numpy as np\n",
    "import matplotlib.pyplot as plt\n",
    "\n",
    "# Definir la función para generar números distribuidos exponencialmente\n",
    "def generar_exponencial(media, size):\n",
    "    return np.random.exponential(scale=media, size=size)\n",
    "\n",
    "# Generar dos secuencias de números con tamaños 10 y 100\n",
    "seq_10 = generar_exponencial(10, 10)\n",
    "seq_100 = generar_exponencial(10, 100)\n",
    "\n",
    "# Graficar los histogramas\n",
    "plt.figure(figsize=(12, 6))\n",
    "\n",
    "# Histograma para secuencia de tamaño 10\n",
    "plt.subplot(1, 2, 1)\n",
    "plt.hist(seq_10, bins=100, color='skyblue', edgecolor='black')\n",
    "plt.title('Distribución Exponencial (Tamaño=10)')\n",
    "plt.xlabel('Valor')\n",
    "plt.ylabel('Frecuencia')\n",
    "\n",
    "# Histograma para secuencia de tamaño 100\n",
    "plt.subplot(1, 2, 2)\n",
    "plt.hist(seq_100, bins=100, color='salmon', edgecolor='black')\n",
    "plt.title('Distribución Exponencial (Tamaño=100)')\n",
    "plt.xlabel('Valor')\n",
    "plt.ylabel('Frecuencia')\n",
    "\n",
    "# Mostrar gráficos\n",
    "plt.tight_layout()\n",
    "plt.show()"
   ]
  },
  {
   "cell_type": "markdown",
   "metadata": {},
   "source": [
    "¿En qué se diferencian ambas distribuciones?"
   ]
  },
  {
   "cell_type": "markdown",
   "metadata": {},
   "source": [
    "La media cambia, por lo que la distribución también cambia. "
   ]
  },
  {
   "cell_type": "markdown",
   "metadata": {},
   "source": [
    "## Distribución Exponencial de datos reales\n",
    "\n",
    "Supongamos que el tiempo que uno pasa en un banco se distribuye exponencialmente con media de 10 minutos (es decir, λ = 1/10). ¿Cuál es la probabilidad de que un cliente pase menos de quince minutos en el banco? \n",
    "\n",
    "Escribe un código en python para resolver este problema"
   ]
  },
  {
   "cell_type": "code",
   "execution_count": null,
   "metadata": {},
   "outputs": [],
   "source": [
    "# your code here\n",
    "from scipy.stats import expon\n",
    "\n",
    "# Parámetros\n",
    "media = 10\n",
    "lmbda = 1 / media\n",
    "tiempo = 15\n",
    "\n",
    "# Cálculo de la probabilidad usando la función de distribución acumulativa (CDF)\n",
    "probabilidad_menos_15 = expon.cdf(tiempo, scale=1/lmbda)\n",
    "\n",
    "print(f\"La probabilidad de que un cliente pase menos de 15 minutos en el banco es: {probabilidad_menos_15:.4f}\")\n",
    "\n",
    "# Probabilidad de pasar más de 15 minutos en el banco\n",
    "probabilidad_mas_15 = 1 - probabilidad_menos_15\n",
    "\n",
    "print(f\"La probabilidad de que un cliente pase más de 15 minutos en el banco es: {probabilidad_mas_15:.4f}\")"
   ]
  },
  {
   "cell_type": "markdown",
   "metadata": {},
   "source": [
    "¿Cuál es la probabilidad de que el cliente pase más de 15 minutos?"
   ]
  },
  {
   "cell_type": "code",
   "execution_count": null,
   "metadata": {},
   "outputs": [],
   "source": [
    "# your code here\n",
    "from scipy.stats import expon\n",
    "\n",
    "# Parámetros\n",
    "media = 10\n",
    "lmbda = 1 / media\n",
    "tiempo = 15\n",
    "\n",
    "# Cálculo de la probabilidad usando la función de distribución acumulativa (CDF)\n",
    "probabilidad_menos_15 = expon.cdf(tiempo, scale=1/lmbda)\n",
    "\n",
    "print(f\"La probabilidad de que un cliente pase menos de 15 minutos en el banco es: {probabilidad_menos_15:.4f}\")\n",
    "\n",
    "# Probabilidad de pasar más de 15 minutos en el banco\n",
    "probabilidad_mas_15 = 1 - probabilidad_menos_15\n",
    "\n",
    "print(f\"La probabilidad de que un cliente pase más de 15 minutos en el banco es: {probabilidad_mas_15:.4f}\")"
   ]
  }
 ],
 "metadata": {
  "kernelspec": {
   "display_name": "base",
   "language": "python",
   "name": "python3"
  },
  "language_info": {
   "codemirror_mode": {
    "name": "ipython",
    "version": 3
   },
   "file_extension": ".py",
   "mimetype": "text/x-python",
   "name": "python",
   "nbconvert_exporter": "python",
   "pygments_lexer": "ipython3",
   "version": "3.12.4"
  }
 },
 "nbformat": 4,
 "nbformat_minor": 2
}
